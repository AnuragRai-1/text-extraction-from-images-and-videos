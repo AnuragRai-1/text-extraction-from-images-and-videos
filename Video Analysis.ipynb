{
 "cells": [
  {
   "cell_type": "code",
   "execution_count": 1,
   "metadata": {
    "scrolled": true
   },
   "outputs": [
    {
     "data": {
      "text/plain": [
       "''"
      ]
     },
     "execution_count": 1,
     "metadata": {},
     "output_type": "execute_result"
    }
   ],
   "source": [
    "import os\n",
    "from fpdf import FPDF\n",
    "import cv2\n",
    "import pytesseract\n",
    "\n",
    "Executable = \"ffmpeg.exe\"\n",
    "input = \"VideoLecture2.mp4 \"\n",
    "if not(os.path.exists(\"C:/Users/HP User/Desktop/ML Workshop/img\")):\n",
    "    os.mkdir(\"C:/Users/HP User/Desktop/ML Workshop/img\")\n",
    "\n",
    "output=\"img/image%d.png\"\n",
    "\n",
    "cmd=Executable + \" -i \"+ input + \"-filter_complex \\\"select='gt(scene,0.05)',metadata=print:file=time.txt\\\" -vsync vfr \" + output \n",
    "os.system(cmd)\n",
    "\n",
    "imagelist=os.listdir(\"C:/Users/HP User/Desktop/ML Workshop/img\")\n",
    "\n",
    "# imagelist is the list with all image filenames\n",
    "for image in imagelist:\n",
    "    img = cv2.imread(\"C:/Users/HP User/Desktop/ML Workshop/img/\"+image)\n",
    "    if img is not None:\n",
    "        detector = cv2.CascadeClassifier(\"haarcascade_frontalface_alt (1).xml\")\n",
    "        faces=detector.detectMultiScale(img)\n",
    "    \n",
    "        pytesseract.pytesseract.tesseract_cmd = 'C:\\\\Program Files\\\\Tesseract-OCR\\\\tesseract.exe'\n",
    "        text = pytesseract.image_to_string(img, config='')\n",
    "        if (len(text)<5) | (len(faces)>0) :\n",
    "            os.remove(\"C:/Users/HP User/Desktop/ML Workshop/img/\"+image)\n",
    "\n",
    "            \n",
    "pdf = FPDF()\n",
    "imagelist=os.listdir(\"C:/Users/HP User/Desktop/ML Workshop/img\")\n",
    "for image in imagelist:\n",
    "    pdf.add_page()\n",
    "    pdf.image(\"C:/Users/HP User/Desktop/ML Workshop/img/\"+image)\n",
    "\n",
    "pdf.output(\"Slides.pdf\", \"F\")"
   ]
  },
  {
   "cell_type": "code",
   "execution_count": null,
   "metadata": {},
   "outputs": [],
   "source": []
  }
 ],
 "metadata": {
  "kernelspec": {
   "display_name": "Python 3",
   "language": "python",
   "name": "python3"
  },
  "language_info": {
   "codemirror_mode": {
    "name": "ipython",
    "version": 3
   },
   "file_extension": ".py",
   "mimetype": "text/x-python",
   "name": "python",
   "nbconvert_exporter": "python",
   "pygments_lexer": "ipython3",
   "version": "3.7.6"
  }
 },
 "nbformat": 4,
 "nbformat_minor": 4
}
